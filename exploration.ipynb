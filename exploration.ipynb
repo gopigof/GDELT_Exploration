{
 "cells": [
  {
   "cell_type": "markdown",
   "source": [
    "# GDELT API Exploration"
   ],
   "metadata": {
    "collapsed": false
   },
   "id": "5c839b38a6ba4386"
  },
  {
   "cell_type": "markdown",
   "source": [
    "## Usage\n",
    "\n",
    "Note: There is a Python API library open-sourced, which provides handy utilities to interact and query the GDELT Project database. This is [the project's GitHub Page](https://github.com/alex9smith/gdelt-doc-api)\n",
    "\n",
    "\n",
    "The following is an example to query the API and fetch all articles in the GDELT database containing the one of the keywords (\"femicide\", \"illegal fishing\", \"wildlife crime\") and were published within the timeframe of last 2 months.\n"
   ],
   "metadata": {
    "collapsed": false
   },
   "id": "567a049ff9448eb9"
  },
  {
   "cell_type": "code",
   "execution_count": 1,
   "id": "initial_id",
   "metadata": {
    "collapsed": true,
    "ExecuteTime": {
     "end_time": "2023-09-18T03:42:04.717974800Z",
     "start_time": "2023-09-18T03:42:04.080787900Z"
    }
   },
   "outputs": [],
   "source": [
    "from gdeltdoc import GdeltDoc, Filters"
   ]
  },
  {
   "cell_type": "code",
   "execution_count": 6,
   "outputs": [
    {
     "data": {
      "text/plain": "                                                  url  \\\n0   https://www.elsiglodetorreon.com.mx/noticia/20...   \n1   https://www.semana.com/nacion/articulo/urgente...   \n2   https://www.eluniversal.com.mx/edomex/caso-ana...   \n3   https://www.24-horas.mx/2023/09/17/asesinan-en...   \n4   https://www.elsiglodetorreon.com.mx/noticia/20...   \n5   https://www.eluniversal.com.co/mundo/el-crudo-...   \n6   https://www.eluniversal.com.mx/edomex/caso-ana...   \n7   http://www.razon.com.mx/estados/feminicidio-an...   \n8   https://tn.com.ar/sociedad/2023/09/17/la-reacc...   \n9   https://www.eltiempo.com/bogota/autoridades-re...   \n10  https://www.lacapital.com.ar/policiales/un-hom...   \n11  https://criteriohidalgo.com/noticias/ana-maria...   \n12  https://www.elchubut.com.ar/regionales/2023-9-...   \n13  https://www.lapoliticaonline.com:443/politica/...   \n14  https://www.laarena.com.ar/la-pampa/la-oposici...   \n15  https://finance.sina.com.cn/tech/roll/2023-09-...   \n16  https://www.cadena3.com/noticia/cadena-3-elecc...   \n17  https://www.cadena3.com/noticia/racing-de-cord...   \n18  https://www.cadena3.com/noticia/rony-en-vivo/m...   \n19  http://www.catamarcactual.com.ar/nacionales/20...   \n\n                                           url_mobile  \\\n0   https://www.elsiglodetorreon.com.mx/nota/2023/...   \n1   https://www.semana.com/amp/nacion/articulo/urg...   \n2   https://www.eluniversal.com.mx/edomex/caso-ana...   \n3                                                       \n4   https://www.elsiglodetorreon.com.mx/nota/2023/...   \n5   https://m.eluniversal.com.co/mundo/el-crudo-re...   \n6   https://www.eluniversal.com.mx/edomex/caso-ana...   \n7   https://www.razon.com.mx/amp/estados/feminicid...   \n8   https://tn.com.ar/sociedad/2023/09/17/la-reacc...   \n9   https://www.eltiempo.com/amp/bogota/autoridade...   \n10                                                      \n11                                                      \n12  https://www.elchubut.com.ar/regionales/2023-9-...   \n13  https://www.lapoliticaonline.com/amp/269011-la...   \n14  https://www.laarena.com.ar/la-pampa/la-oposici...   \n15                                                      \n16  https://www.cadena3.com/amp/noticia/cadena-3-e...   \n17  https://www.cadena3.com/amp/noticia/racing-de-...   \n18  https://www.cadena3.com/amp/noticia/rony-en-vi...   \n19  https://www.catamarcactual.com.ar/amp/el-radic...   \n\n                                                title          seendate  \\\n0   Fiscalía de Edomex detiene al presunto feminic...  20230918T031500Z   \n1   Capturan en México a exnovio de Ana María Serr...  20230918T030000Z   \n2   Caso Ana María : Trasladan al penal de Barrien...  20230918T024500Z   \n3   Asesinan en México a Ana María Serrano , sobri...  20230918T033000Z   \n4       Sujeto asesina a exnovia en Atizapán , Edomex  20230918T031500Z   \n5   El crudo relato de la madre de Ana María Serra...  20230918T033000Z   \n6   Caso Ana María : La joven víctima de feminicid...  20230918T024500Z   \n7   Feminicidio de Ana María . Así recuerdan a la ...  20230918T033000Z   \n8   EL FUERTE MENSAJE de la mamá de CECILIA Strzyz...  20230918T024500Z   \n9   Autoridades reportaron cero homicidios durante...  20230918T030000Z   \n10  Un hombre en Roldán hirió a balazos a su ex pa...  20230918T033000Z   \n11  Ana María , joven de 18 años , fue víctima de ...  20230918T030000Z   \n12  De puño y letra : La crisis de Trelew recalent...  20230918T041500Z   \n13  La caída de Capitanich : el radicalismo vuelve...  20230918T033000Z   \n14  La oposición le arrebató la gobernación a Capi...  20230918T033000Z   \n15                     离海最远的地方也产海鲜了 ！ 中国电信新疆公司科技赋能水产业  20230918T041500Z   \n16  Río Cuarto : Gonzalo Parodi ganó la interna ra...  20230918T031500Z   \n17  Racing de Córdoba jugó el partido como una fin...  20230918T031500Z   \n18  Murió uno de los pilotos del avión que se acci...  20230918T031500Z   \n19  El radical Zdero derrotó a Capitanich en el Chaco  20230918T024500Z   \n\n                                          socialimage  \\\n0   https://tecolotito.elsiglodetorreon.com.mx/i/2...   \n1   https://www.semana.com/resizer/oAmAZdLzkZhBnge...   \n2   https://www.eluniversal.com.mx/resizer/3RcNoOo...   \n3   https://www.24-horas.mx/wp-content/uploads/202...   \n4   https://tecolotito.elsiglodetorreon.com.mx/i/2...   \n5   https://www.eluniversal.com.co/binrepository/1...   \n6   https://www.eluniversal.com.mx/resizer/OaCauEl...   \n7                                                       \n8   https://tn.com.ar/resizer/ESMC8ceJWXp9maJJod4q...   \n9   https://www.eltiempo.com/files/og_paste_img/up...   \n10  https://media.lacapital.com.ar/p/bb207d46d4de4...   \n11  https://criteriohidalgo.com/wp-content/uploads...   \n12  https://pxb.cdn.elchubut.com.ar/chubut/092023/...   \n13  https://www.lapoliticaonline.com/files/image/2...   \n14  https://media.cdn.laarena.com.ar/102021/163363...   \n15  https://n.sinaimg.cn/spider20230918/640/w1280h...   \n16  https://www.cadena3.com/admin/playerswf/fotos/...   \n17  https://www.cadena3.com/admin/playerswf/fotos/...   \n18  https://www.cadena3.com/admin/playerswf/fotos/...   \n19  https://www.catamarcactual.com.ar/u/fotografia...   \n\n                     domain language sourcecountry  \n0   elsiglodetorreon.com.mx  Spanish        Mexico  \n1                semana.com  Spanish      Colombia  \n2        eluniversal.com.mx  Spanish        Mexico  \n3               24-horas.mx  Spanish        Mexico  \n4   elsiglodetorreon.com.mx  Spanish        Mexico  \n5        eluniversal.com.co  Spanish      Colombia  \n6        eluniversal.com.mx  Spanish        Mexico  \n7              razon.com.mx  Spanish        Mexico  \n8                 tn.com.ar  Spanish     Argentina  \n9              eltiempo.com  Spanish      Colombia  \n10         lacapital.com.ar  Spanish     Argentina  \n11      criteriohidalgo.com  Spanish        Mexico  \n12          elchubut.com.ar  Spanish     Argentina  \n13     lapoliticaonline.com  Spanish     Argentina  \n14           laarena.com.ar  Spanish     Argentina  \n15      finance.sina.com.cn  Chinese         China  \n16              cadena3.com  Spanish     Argentina  \n17              cadena3.com  Spanish     Argentina  \n18              cadena3.com  Spanish     Argentina  \n19    catamarcactual.com.ar  Spanish     Argentina  ",
      "text/html": "<div>\n<style scoped>\n    .dataframe tbody tr th:only-of-type {\n        vertical-align: middle;\n    }\n\n    .dataframe tbody tr th {\n        vertical-align: top;\n    }\n\n    .dataframe thead th {\n        text-align: right;\n    }\n</style>\n<table border=\"1\" class=\"dataframe\">\n  <thead>\n    <tr style=\"text-align: right;\">\n      <th></th>\n      <th>url</th>\n      <th>url_mobile</th>\n      <th>title</th>\n      <th>seendate</th>\n      <th>socialimage</th>\n      <th>domain</th>\n      <th>language</th>\n      <th>sourcecountry</th>\n    </tr>\n  </thead>\n  <tbody>\n    <tr>\n      <th>0</th>\n      <td>https://www.elsiglodetorreon.com.mx/noticia/20...</td>\n      <td>https://www.elsiglodetorreon.com.mx/nota/2023/...</td>\n      <td>Fiscalía de Edomex detiene al presunto feminic...</td>\n      <td>20230918T031500Z</td>\n      <td>https://tecolotito.elsiglodetorreon.com.mx/i/2...</td>\n      <td>elsiglodetorreon.com.mx</td>\n      <td>Spanish</td>\n      <td>Mexico</td>\n    </tr>\n    <tr>\n      <th>1</th>\n      <td>https://www.semana.com/nacion/articulo/urgente...</td>\n      <td>https://www.semana.com/amp/nacion/articulo/urg...</td>\n      <td>Capturan en México a exnovio de Ana María Serr...</td>\n      <td>20230918T030000Z</td>\n      <td>https://www.semana.com/resizer/oAmAZdLzkZhBnge...</td>\n      <td>semana.com</td>\n      <td>Spanish</td>\n      <td>Colombia</td>\n    </tr>\n    <tr>\n      <th>2</th>\n      <td>https://www.eluniversal.com.mx/edomex/caso-ana...</td>\n      <td>https://www.eluniversal.com.mx/edomex/caso-ana...</td>\n      <td>Caso Ana María : Trasladan al penal de Barrien...</td>\n      <td>20230918T024500Z</td>\n      <td>https://www.eluniversal.com.mx/resizer/3RcNoOo...</td>\n      <td>eluniversal.com.mx</td>\n      <td>Spanish</td>\n      <td>Mexico</td>\n    </tr>\n    <tr>\n      <th>3</th>\n      <td>https://www.24-horas.mx/2023/09/17/asesinan-en...</td>\n      <td></td>\n      <td>Asesinan en México a Ana María Serrano , sobri...</td>\n      <td>20230918T033000Z</td>\n      <td>https://www.24-horas.mx/wp-content/uploads/202...</td>\n      <td>24-horas.mx</td>\n      <td>Spanish</td>\n      <td>Mexico</td>\n    </tr>\n    <tr>\n      <th>4</th>\n      <td>https://www.elsiglodetorreon.com.mx/noticia/20...</td>\n      <td>https://www.elsiglodetorreon.com.mx/nota/2023/...</td>\n      <td>Sujeto asesina a exnovia en Atizapán , Edomex</td>\n      <td>20230918T031500Z</td>\n      <td>https://tecolotito.elsiglodetorreon.com.mx/i/2...</td>\n      <td>elsiglodetorreon.com.mx</td>\n      <td>Spanish</td>\n      <td>Mexico</td>\n    </tr>\n    <tr>\n      <th>5</th>\n      <td>https://www.eluniversal.com.co/mundo/el-crudo-...</td>\n      <td>https://m.eluniversal.com.co/mundo/el-crudo-re...</td>\n      <td>El crudo relato de la madre de Ana María Serra...</td>\n      <td>20230918T033000Z</td>\n      <td>https://www.eluniversal.com.co/binrepository/1...</td>\n      <td>eluniversal.com.co</td>\n      <td>Spanish</td>\n      <td>Colombia</td>\n    </tr>\n    <tr>\n      <th>6</th>\n      <td>https://www.eluniversal.com.mx/edomex/caso-ana...</td>\n      <td>https://www.eluniversal.com.mx/edomex/caso-ana...</td>\n      <td>Caso Ana María : La joven víctima de feminicid...</td>\n      <td>20230918T024500Z</td>\n      <td>https://www.eluniversal.com.mx/resizer/OaCauEl...</td>\n      <td>eluniversal.com.mx</td>\n      <td>Spanish</td>\n      <td>Mexico</td>\n    </tr>\n    <tr>\n      <th>7</th>\n      <td>http://www.razon.com.mx/estados/feminicidio-an...</td>\n      <td>https://www.razon.com.mx/amp/estados/feminicid...</td>\n      <td>Feminicidio de Ana María . Así recuerdan a la ...</td>\n      <td>20230918T033000Z</td>\n      <td></td>\n      <td>razon.com.mx</td>\n      <td>Spanish</td>\n      <td>Mexico</td>\n    </tr>\n    <tr>\n      <th>8</th>\n      <td>https://tn.com.ar/sociedad/2023/09/17/la-reacc...</td>\n      <td>https://tn.com.ar/sociedad/2023/09/17/la-reacc...</td>\n      <td>EL FUERTE MENSAJE de la mamá de CECILIA Strzyz...</td>\n      <td>20230918T024500Z</td>\n      <td>https://tn.com.ar/resizer/ESMC8ceJWXp9maJJod4q...</td>\n      <td>tn.com.ar</td>\n      <td>Spanish</td>\n      <td>Argentina</td>\n    </tr>\n    <tr>\n      <th>9</th>\n      <td>https://www.eltiempo.com/bogota/autoridades-re...</td>\n      <td>https://www.eltiempo.com/amp/bogota/autoridade...</td>\n      <td>Autoridades reportaron cero homicidios durante...</td>\n      <td>20230918T030000Z</td>\n      <td>https://www.eltiempo.com/files/og_paste_img/up...</td>\n      <td>eltiempo.com</td>\n      <td>Spanish</td>\n      <td>Colombia</td>\n    </tr>\n    <tr>\n      <th>10</th>\n      <td>https://www.lacapital.com.ar/policiales/un-hom...</td>\n      <td></td>\n      <td>Un hombre en Roldán hirió a balazos a su ex pa...</td>\n      <td>20230918T033000Z</td>\n      <td>https://media.lacapital.com.ar/p/bb207d46d4de4...</td>\n      <td>lacapital.com.ar</td>\n      <td>Spanish</td>\n      <td>Argentina</td>\n    </tr>\n    <tr>\n      <th>11</th>\n      <td>https://criteriohidalgo.com/noticias/ana-maria...</td>\n      <td></td>\n      <td>Ana María , joven de 18 años , fue víctima de ...</td>\n      <td>20230918T030000Z</td>\n      <td>https://criteriohidalgo.com/wp-content/uploads...</td>\n      <td>criteriohidalgo.com</td>\n      <td>Spanish</td>\n      <td>Mexico</td>\n    </tr>\n    <tr>\n      <th>12</th>\n      <td>https://www.elchubut.com.ar/regionales/2023-9-...</td>\n      <td>https://www.elchubut.com.ar/regionales/2023-9-...</td>\n      <td>De puño y letra : La crisis de Trelew recalent...</td>\n      <td>20230918T041500Z</td>\n      <td>https://pxb.cdn.elchubut.com.ar/chubut/092023/...</td>\n      <td>elchubut.com.ar</td>\n      <td>Spanish</td>\n      <td>Argentina</td>\n    </tr>\n    <tr>\n      <th>13</th>\n      <td>https://www.lapoliticaonline.com:443/politica/...</td>\n      <td>https://www.lapoliticaonline.com/amp/269011-la...</td>\n      <td>La caída de Capitanich : el radicalismo vuelve...</td>\n      <td>20230918T033000Z</td>\n      <td>https://www.lapoliticaonline.com/files/image/2...</td>\n      <td>lapoliticaonline.com</td>\n      <td>Spanish</td>\n      <td>Argentina</td>\n    </tr>\n    <tr>\n      <th>14</th>\n      <td>https://www.laarena.com.ar/la-pampa/la-oposici...</td>\n      <td>https://www.laarena.com.ar/la-pampa/la-oposici...</td>\n      <td>La oposición le arrebató la gobernación a Capi...</td>\n      <td>20230918T033000Z</td>\n      <td>https://media.cdn.laarena.com.ar/102021/163363...</td>\n      <td>laarena.com.ar</td>\n      <td>Spanish</td>\n      <td>Argentina</td>\n    </tr>\n    <tr>\n      <th>15</th>\n      <td>https://finance.sina.com.cn/tech/roll/2023-09-...</td>\n      <td></td>\n      <td>离海最远的地方也产海鲜了 ！ 中国电信新疆公司科技赋能水产业</td>\n      <td>20230918T041500Z</td>\n      <td>https://n.sinaimg.cn/spider20230918/640/w1280h...</td>\n      <td>finance.sina.com.cn</td>\n      <td>Chinese</td>\n      <td>China</td>\n    </tr>\n    <tr>\n      <th>16</th>\n      <td>https://www.cadena3.com/noticia/cadena-3-elecc...</td>\n      <td>https://www.cadena3.com/amp/noticia/cadena-3-e...</td>\n      <td>Río Cuarto : Gonzalo Parodi ganó la interna ra...</td>\n      <td>20230918T031500Z</td>\n      <td>https://www.cadena3.com/admin/playerswf/fotos/...</td>\n      <td>cadena3.com</td>\n      <td>Spanish</td>\n      <td>Argentina</td>\n    </tr>\n    <tr>\n      <th>17</th>\n      <td>https://www.cadena3.com/noticia/racing-de-cord...</td>\n      <td>https://www.cadena3.com/amp/noticia/racing-de-...</td>\n      <td>Racing de Córdoba jugó el partido como una fin...</td>\n      <td>20230918T031500Z</td>\n      <td>https://www.cadena3.com/admin/playerswf/fotos/...</td>\n      <td>cadena3.com</td>\n      <td>Spanish</td>\n      <td>Argentina</td>\n    </tr>\n    <tr>\n      <th>18</th>\n      <td>https://www.cadena3.com/noticia/rony-en-vivo/m...</td>\n      <td>https://www.cadena3.com/amp/noticia/rony-en-vi...</td>\n      <td>Murió uno de los pilotos del avión que se acci...</td>\n      <td>20230918T031500Z</td>\n      <td>https://www.cadena3.com/admin/playerswf/fotos/...</td>\n      <td>cadena3.com</td>\n      <td>Spanish</td>\n      <td>Argentina</td>\n    </tr>\n    <tr>\n      <th>19</th>\n      <td>http://www.catamarcactual.com.ar/nacionales/20...</td>\n      <td>https://www.catamarcactual.com.ar/amp/el-radic...</td>\n      <td>El radical Zdero derrotó a Capitanich en el Chaco</td>\n      <td>20230918T024500Z</td>\n      <td>https://www.catamarcactual.com.ar/u/fotografia...</td>\n      <td>catamarcactual.com.ar</td>\n      <td>Spanish</td>\n      <td>Argentina</td>\n    </tr>\n  </tbody>\n</table>\n</div>"
     },
     "execution_count": 6,
     "metadata": {},
     "output_type": "execute_result"
    }
   ],
   "source": [
    "f = Filters(keyword=[\"femicide\", \"illegal fishing\", \"wildlife crime\"], timespan=\"2months\")\n",
    "gd = GdeltDoc()\n",
    "\n",
    "articles = gd.article_search(filters=f)\n",
    "articles"
   ],
   "metadata": {
    "collapsed": false,
    "ExecuteTime": {
     "end_time": "2023-09-18T04:44:05.656969700Z",
     "start_time": "2023-09-18T04:44:03.097734300Z"
    }
   },
   "id": "4f0c88da97b8d439"
  },
  {
   "cell_type": "markdown",
   "source": [
    "## 1. Can we use code to fetch lists of URLs matching boolean queries?\n",
    "\n",
    "Yes, the API query allows for filtering using boolean queries (AND, OR). The below example showcases the example of chaining `OR` keyword and this result is used to query the GDELT API to get a response similar to above.\n",
    " \n",
    "Note: Creating queries using `AND` filter is not directly supported by the library yet and can be achieved with updating some functions and minimal efforts\n",
    "Note: GDELT API behaves differently when the query string is longer than 225 characters. The current implementation of the API doesn't have a good mechanism to handle such large query strings and the response from GDELT API. The GDELT API in this cases, returns a browser interactive HTML widget. "
   ],
   "metadata": {
    "collapsed": false
   },
   "id": "d6898d3265bce49f"
  },
  {
   "cell_type": "code",
   "execution_count": 9,
   "outputs": [
    {
     "data": {
      "text/plain": "'(asesinato OR homicidio OR femicidio OR feminicidio OR travesticidio OR transfemicidio OR Lesbicidio OR asesina OR asesinada OR muerta OR muerte OR mata OR mató OR dispara OR balea OR apuñala OR acuchillada OR golpeada OR estrangula OR ahogada OR degollada OR incinera OR quemada OR envenenada OR \"prendida fuego\" OR descuartizada OR \"sin vida\" OR intento OR \"intento de asesinato\" OR \"Intentó asesinarla\" OR \"intento de femicidio\" OR \"intento de transfemicidio\" OR \"intento de travesticidio\" OR \"intento de lesbicidio\" OR \"intentó matarla\" OR suicidio OR \"se quito la vida\" OR \"se mató\" OR \"se suicido\" OR \"se ahorco\") AND (muje\" OR niña OR \"una joven\" OR \"una adolescente\" OR \"una chica\" OR \"cuerpo de una mujer\" OR restos OR \"cadaver de una mujer\" OR prostituta OR \"trabajadora sexual\" OR \"mujer trans\" OR \"una travesti\" OR \"hombre vestido de mujer\") &timespan=2months&maxrecords=250'"
     },
     "execution_count": 9,
     "metadata": {},
     "output_type": "execute_result"
    }
   ],
   "source": [
    "f = Filters(keyword=['asesinato', 'homicidio', 'femicidio', 'feminicidio', 'travesticidio', 'transfemicidio', 'Lesbicidio', 'asesina', 'asesinada', 'muerta', 'muerte', 'mata', 'mató', 'dispara', 'balea', 'apuñala', 'acuchillada', 'golpeada', 'estrangula', 'ahogada', 'degollada', 'incinera', 'quemada', 'envenenada', 'prendida fuego', 'descuartizada', 'sin vida', 'intento', 'intento de asesinato', 'Intentó asesinarla', 'intento de femicidio', 'intento de transfemicidio', 'intento de travesticidio', 'intento de lesbicidio', 'intentó matarla', 'suicidio', 'se quito la vida', 'se mató', 'se suicido', 'se ahorco\") AND (muje', 'niña', 'una joven', 'una adolescente', 'una chica', 'cuerpo de una mujer', 'restos', 'cadaver de una mujer', 'prostituta', 'trabajadora sexual', 'mujer trans', 'una travesti', 'hombre vestido de mujer'], timespan=\"2months\")\n",
    "f.query_string"
   ],
   "metadata": {
    "collapsed": false,
    "ExecuteTime": {
     "end_time": "2023-09-18T04:55:51.650229800Z",
     "start_time": "2023-09-18T04:55:51.637720200Z"
    }
   },
   "id": "2650a6c76386558a"
  },
  {
   "cell_type": "markdown",
   "source": [
    "## 2. If so, how do we filter to results from the last three days and page through those?\n",
    "\n",
    "Filtering the results based on an absolute and relative time ranges are supported by the GDELT API. For relative filtering this is the supported syntax: \n",
    "    - Minutes: `min`\n",
    "    - Hours: `h`, `hours`\n",
    "    - Days: `d`, `days`\n",
    "    - Weeks: `w`, `weeks`\n",
    "    - Months: `m`, `months` \n",
    "    \n",
    "So, below would be the way to filter the results from last three days"
   ],
   "metadata": {
    "collapsed": false
   },
   "id": "d384a0ef4790d30c"
  },
  {
   "cell_type": "code",
   "execution_count": 10,
   "outputs": [
    {
     "data": {
      "text/plain": "                                                   url  \\\n0    https://diario.mx/juarez/encabeza-juarez-top-e...   \n1    https://www.am.com.mx/guanajuato/2023/9/17/con...   \n2    https://www.eluniversal.com.mx/estados/exigen-...   \n3    https://www.radioformula.com.mx/nacional/2023/...   \n4    https://www.semana.com/nacion/articulo/aterrad...   \n..                                                 ...   \n245  https://larepublica.pe:443/sociedad/2023/09/16...   \n246  https://www.diariodecuyo.com.ar/argentina/En-C...   \n247  https://www.zazoom.it/2023-09-17/violenza-su-d...   \n248       https://www.jpost.com/opinion/article-759223   \n249  https://laverdadnoticias.com/quintanaroo/Lista...   \n\n                                            url_mobile  \\\n0    https://diario.mx/juarez/amp/encabeza-juarez-t...   \n1    https://www.am.com.mx/amp/congreso-amplia-caus...   \n2    https://www.eluniversal.com.mx/estados/exigen-...   \n3                                                        \n4    https://www.semana.com/amp/nacion/articulo/ate...   \n..                                                 ...   \n245  https://larepublica.pe/amp/sociedad/2023/09/16...   \n246  https://www.diariodecuyo.com.ar/amp/argentina/...   \n247                                                      \n248         https://m.jpost.com/opinion/article-759223   \n249  https://laverdadnoticias.com/amp/quintanaroo/L...   \n\n                                                 title          seendate  \\\n0        Encabeza Juárez  top  estatal de feminicidios  20230915T200000Z   \n1    Congreso amplía causales para aplicar pena máx...  20230917T230000Z   \n2                Exigen justicia por maestra asesinada  20230916T104500Z   \n3    Encuentran sin vida a Kailani , niña de 3 años...  20230915T201500Z   \n4    Aterrador | Ana María Serrano , sobrina del ex...  20230917T220000Z   \n..                                                 ...               ...   \n245  Abuso infantil : piden aborto terapéutico en Á...  20230916T100000Z   \n246  En Chaco ,  cajoneado  el caso Cecilia Strzyzo...  20230917T041500Z   \n247  Violenza su donne | Zanella |  castrazione chi...  20230917T143000Z   \n248  The shofar call to remember Mahsa Amini - opin...  20230915T081500Z   \n249  Lista para ser votada la Ley contra pederastia...  20230916T083000Z   \n\n                                           socialimage                domain  \\\n0    https://diario.mx/jrz/media/uploads/galeria/20...             diario.mx   \n1    https://www.am.com.mx/u/fotografias/m/2023/9/1...             am.com.mx   \n2    https://www.eluniversal.com.mx/resizer/CSE8Tf3...    eluniversal.com.mx   \n3    https://www.radioformula.com.mx/u/fotografias/...   radioformula.com.mx   \n4    https://www.semana.com/resizer/cH2C1EzR8Xmeez0...            semana.com   \n..                                                 ...                   ...   \n245  https://imgmedia.larepublica.pe/1200x630/larep...        larepublica.pe   \n246  https://www.diariodecuyo.com.ar/__export/16949...   diariodecuyo.com.ar   \n247                                                                zazoom.it   \n248  https://images.jpost.com/image/upload/f_auto,f...             jpost.com   \n249  https://laverdadnoticias.com/__export/16948181...  laverdadnoticias.com   \n\n    language sourcecountry  \n0    Spanish        Mexico  \n1    Spanish        Mexico  \n2    Spanish        Mexico  \n3    Spanish        Mexico  \n4    Spanish      Colombia  \n..       ...           ...  \n245  Spanish          Peru  \n246  Spanish     Argentina  \n247  Italian         Italy  \n248  English        Israel  \n249  Spanish        Mexico  \n\n[250 rows x 8 columns]",
      "text/html": "<div>\n<style scoped>\n    .dataframe tbody tr th:only-of-type {\n        vertical-align: middle;\n    }\n\n    .dataframe tbody tr th {\n        vertical-align: top;\n    }\n\n    .dataframe thead th {\n        text-align: right;\n    }\n</style>\n<table border=\"1\" class=\"dataframe\">\n  <thead>\n    <tr style=\"text-align: right;\">\n      <th></th>\n      <th>url</th>\n      <th>url_mobile</th>\n      <th>title</th>\n      <th>seendate</th>\n      <th>socialimage</th>\n      <th>domain</th>\n      <th>language</th>\n      <th>sourcecountry</th>\n    </tr>\n  </thead>\n  <tbody>\n    <tr>\n      <th>0</th>\n      <td>https://diario.mx/juarez/encabeza-juarez-top-e...</td>\n      <td>https://diario.mx/juarez/amp/encabeza-juarez-t...</td>\n      <td>Encabeza Juárez  top  estatal de feminicidios</td>\n      <td>20230915T200000Z</td>\n      <td>https://diario.mx/jrz/media/uploads/galeria/20...</td>\n      <td>diario.mx</td>\n      <td>Spanish</td>\n      <td>Mexico</td>\n    </tr>\n    <tr>\n      <th>1</th>\n      <td>https://www.am.com.mx/guanajuato/2023/9/17/con...</td>\n      <td>https://www.am.com.mx/amp/congreso-amplia-caus...</td>\n      <td>Congreso amplía causales para aplicar pena máx...</td>\n      <td>20230917T230000Z</td>\n      <td>https://www.am.com.mx/u/fotografias/m/2023/9/1...</td>\n      <td>am.com.mx</td>\n      <td>Spanish</td>\n      <td>Mexico</td>\n    </tr>\n    <tr>\n      <th>2</th>\n      <td>https://www.eluniversal.com.mx/estados/exigen-...</td>\n      <td>https://www.eluniversal.com.mx/estados/exigen-...</td>\n      <td>Exigen justicia por maestra asesinada</td>\n      <td>20230916T104500Z</td>\n      <td>https://www.eluniversal.com.mx/resizer/CSE8Tf3...</td>\n      <td>eluniversal.com.mx</td>\n      <td>Spanish</td>\n      <td>Mexico</td>\n    </tr>\n    <tr>\n      <th>3</th>\n      <td>https://www.radioformula.com.mx/nacional/2023/...</td>\n      <td></td>\n      <td>Encuentran sin vida a Kailani , niña de 3 años...</td>\n      <td>20230915T201500Z</td>\n      <td>https://www.radioformula.com.mx/u/fotografias/...</td>\n      <td>radioformula.com.mx</td>\n      <td>Spanish</td>\n      <td>Mexico</td>\n    </tr>\n    <tr>\n      <th>4</th>\n      <td>https://www.semana.com/nacion/articulo/aterrad...</td>\n      <td>https://www.semana.com/amp/nacion/articulo/ate...</td>\n      <td>Aterrador | Ana María Serrano , sobrina del ex...</td>\n      <td>20230917T220000Z</td>\n      <td>https://www.semana.com/resizer/cH2C1EzR8Xmeez0...</td>\n      <td>semana.com</td>\n      <td>Spanish</td>\n      <td>Colombia</td>\n    </tr>\n    <tr>\n      <th>...</th>\n      <td>...</td>\n      <td>...</td>\n      <td>...</td>\n      <td>...</td>\n      <td>...</td>\n      <td>...</td>\n      <td>...</td>\n      <td>...</td>\n    </tr>\n    <tr>\n      <th>245</th>\n      <td>https://larepublica.pe:443/sociedad/2023/09/16...</td>\n      <td>https://larepublica.pe/amp/sociedad/2023/09/16...</td>\n      <td>Abuso infantil : piden aborto terapéutico en Á...</td>\n      <td>20230916T100000Z</td>\n      <td>https://imgmedia.larepublica.pe/1200x630/larep...</td>\n      <td>larepublica.pe</td>\n      <td>Spanish</td>\n      <td>Peru</td>\n    </tr>\n    <tr>\n      <th>246</th>\n      <td>https://www.diariodecuyo.com.ar/argentina/En-C...</td>\n      <td>https://www.diariodecuyo.com.ar/amp/argentina/...</td>\n      <td>En Chaco ,  cajoneado  el caso Cecilia Strzyzo...</td>\n      <td>20230917T041500Z</td>\n      <td>https://www.diariodecuyo.com.ar/__export/16949...</td>\n      <td>diariodecuyo.com.ar</td>\n      <td>Spanish</td>\n      <td>Argentina</td>\n    </tr>\n    <tr>\n      <th>247</th>\n      <td>https://www.zazoom.it/2023-09-17/violenza-su-d...</td>\n      <td></td>\n      <td>Violenza su donne | Zanella |  castrazione chi...</td>\n      <td>20230917T143000Z</td>\n      <td></td>\n      <td>zazoom.it</td>\n      <td>Italian</td>\n      <td>Italy</td>\n    </tr>\n    <tr>\n      <th>248</th>\n      <td>https://www.jpost.com/opinion/article-759223</td>\n      <td>https://m.jpost.com/opinion/article-759223</td>\n      <td>The shofar call to remember Mahsa Amini - opin...</td>\n      <td>20230915T081500Z</td>\n      <td>https://images.jpost.com/image/upload/f_auto,f...</td>\n      <td>jpost.com</td>\n      <td>English</td>\n      <td>Israel</td>\n    </tr>\n    <tr>\n      <th>249</th>\n      <td>https://laverdadnoticias.com/quintanaroo/Lista...</td>\n      <td>https://laverdadnoticias.com/amp/quintanaroo/L...</td>\n      <td>Lista para ser votada la Ley contra pederastia...</td>\n      <td>20230916T083000Z</td>\n      <td>https://laverdadnoticias.com/__export/16948181...</td>\n      <td>laverdadnoticias.com</td>\n      <td>Spanish</td>\n      <td>Mexico</td>\n    </tr>\n  </tbody>\n</table>\n<p>250 rows × 8 columns</p>\n</div>"
     },
     "execution_count": 10,
     "metadata": {},
     "output_type": "execute_result"
    }
   ],
   "source": [
    "f = Filters(keyword=\"femicide\", timespan=\"3d\")\n",
    "gd.article_search(f)"
   ],
   "metadata": {
    "collapsed": false,
    "ExecuteTime": {
     "end_time": "2023-09-18T05:07:50.700399800Z",
     "start_time": "2023-09-18T05:07:49.785259600Z"
    }
   },
   "id": "fdd68be6967c2f8d"
  },
  {
   "cell_type": "markdown",
   "source": [
    "Note: Currently there is no mechanism to paginate or retrieve more than 250 articles in a single API call. None of the online resources or blogs on GDELT website specify alternative mechanisms to achieve this. But, this should be relatively easy to achieve, through the use of multiple API calls and filtering the results for each day or week and concatenating the result sets.  "
   ],
   "metadata": {
    "collapsed": false
   },
   "id": "d6a870c95d95958f"
  },
  {
   "cell_type": "markdown",
   "source": [
    "## 3. Can we filter by geographic country or state/provide of publication?\n",
    "\n",
    "Yes, the results of the search can be filtered based on the source country of publication, along with the language of publication. The API uses the standard [FIPS country code standard](https://en.wikipedia.org/wiki/List_of_FIPS_country_codes) to filter based on the country. There "
   ],
   "metadata": {
    "collapsed": false
   },
   "id": "3f91648326d1485a"
  },
  {
   "cell_type": "code",
   "execution_count": 11,
   "outputs": [
    {
     "data": {
      "text/plain": "                                                   url  \\\n0    https://www.thehindu.com/news/international/tu...   \n1    https://tribune.com.pk/story/2429155/corporate...   \n2                     https://jang.com.pk/news/1263261   \n3    https://dunyanews.tv/en/Entertainment/749835-F...   \n4                     https://jang.com.pk/news/1256337   \n..                                                 ...   \n245  https://www.punjabitribuneonline.com/news/doab...   \n246  https://www.amarujala.com/dehradun/the-farmers...   \n247  https://www.punjabitribuneonline.com/news/punj...   \n248  https://www.kannadaprabha.com/karnataka/2023/a...   \n249  https://www.sangbadpratidin.in/offbeat/tamil-n...   \n\n                                            url_mobile  \\\n0    https://www.thehindu.com/news/international/tu...   \n1                                                        \n2                      https://jang.com.pk/amp/1263261   \n3                                                        \n4                      https://jang.com.pk/amp/1256337   \n..                                                 ...   \n245  https://m.punjabitribuneonline.com/article/the...   \n246  https://www.amarujala.com/amp/dehradun/the-far...   \n247  https://m.punjabitribuneonline.com/article/lon...   \n248  https://m.kannadaprabha.com/karnataka/2023/aug...   \n249  https://m.sangbadpratidin.in/article/tamil-nad...   \n\n                                                 title          seendate  \\\n0    Turkey drops bid to close leading women rights...  20230914T003000Z   \n1           Corporate farming to attract Rs100 billion  20230804T083000Z   \n2    بھارت : کسانوں کا احتجاج ، مظاہرین عمارت کے حف...  20230829T171500Z   \n3             Farmer stumbles upon big  dinosaur egg    20230824T223000Z   \n4    جھل مگسی میں کسان کے قتل کا نو ٹس لیا جا ئے ، ...  20230810T033000Z   \n..                                                 ...               ...   \n245  ਕਿਸਾਨਾਂ - ਮਜ਼ਦੂਰਾਂ ਨੇ ਕੇਂਦਰ ਸਰਕਾਰ ਦੇ ਪੁਤਲੇ ਫੂਕ...  20230909T061500Z   \n246  Dehradun News : बीज की कमी के कारण चिंतित नजर ...  20230723T203000Z   \n247  ਲੌਂਗੋਵਾਲ : ਪੁਲੀਸ ਨਾਲ ਝੜਪ ਦੌਰਾਨ ਕਿਸਾਨ ਦੀ ਮੌਤ - ...  20230822T034500Z   \n248  ತಿ . ನರಸಿಪುರ ರಸ್ತೆ ಅಪಘಾತದಲ್ಲಿ ರೈತ ಸಾವು : ಹೆದ್ದ...  20230826T114500Z   \n249  Tamil Nadu Couple Act Fake Accident and Hijack...  20230723T111500Z   \n\n                                           socialimage  \\\n0    https://th-i.thgim.com/public/incoming/hktweg/...   \n1    https://i.tribune.com.pk/media/images/JSSKHSJR...   \n2    https://jang.com.pk/assets/uploads/updates/202...   \n3    https://img.dunyanews.tv/news/2023/August/08-2...   \n4                                                        \n..                                                 ...   \n245  https://www.punjabitribuneonline.com/wp-conten...   \n246  https://staticimg.amarujala.com/assets/images/...   \n247  https://www.punjabitribuneonline.com/wp-conten...   \n248  https://media.kannadaprabha.com/uploads/user/i...   \n249  https://www.sangbadpratidin.in/wp-content/uplo...   \n\n                       domain language sourcecountry  \n0                thehindu.com  English         India  \n1              tribune.com.pk  English      Pakistan  \n2                 jang.com.pk     Urdu      Pakistan  \n3                dunyanews.tv  English      Pakistan  \n4                 jang.com.pk     Urdu      Pakistan  \n..                        ...      ...           ...  \n245  punjabitribuneonline.com  Punjabi         India  \n246             amarujala.com    Hindi         India  \n247  punjabitribuneonline.com  Punjabi         India  \n248         kannadaprabha.com  Kannada         India  \n249        sangbadpratidin.in  Bengali         India  \n\n[250 rows x 8 columns]",
      "text/html": "<div>\n<style scoped>\n    .dataframe tbody tr th:only-of-type {\n        vertical-align: middle;\n    }\n\n    .dataframe tbody tr th {\n        vertical-align: top;\n    }\n\n    .dataframe thead th {\n        text-align: right;\n    }\n</style>\n<table border=\"1\" class=\"dataframe\">\n  <thead>\n    <tr style=\"text-align: right;\">\n      <th></th>\n      <th>url</th>\n      <th>url_mobile</th>\n      <th>title</th>\n      <th>seendate</th>\n      <th>socialimage</th>\n      <th>domain</th>\n      <th>language</th>\n      <th>sourcecountry</th>\n    </tr>\n  </thead>\n  <tbody>\n    <tr>\n      <th>0</th>\n      <td>https://www.thehindu.com/news/international/tu...</td>\n      <td>https://www.thehindu.com/news/international/tu...</td>\n      <td>Turkey drops bid to close leading women rights...</td>\n      <td>20230914T003000Z</td>\n      <td>https://th-i.thgim.com/public/incoming/hktweg/...</td>\n      <td>thehindu.com</td>\n      <td>English</td>\n      <td>India</td>\n    </tr>\n    <tr>\n      <th>1</th>\n      <td>https://tribune.com.pk/story/2429155/corporate...</td>\n      <td></td>\n      <td>Corporate farming to attract Rs100 billion</td>\n      <td>20230804T083000Z</td>\n      <td>https://i.tribune.com.pk/media/images/JSSKHSJR...</td>\n      <td>tribune.com.pk</td>\n      <td>English</td>\n      <td>Pakistan</td>\n    </tr>\n    <tr>\n      <th>2</th>\n      <td>https://jang.com.pk/news/1263261</td>\n      <td>https://jang.com.pk/amp/1263261</td>\n      <td>بھارت : کسانوں کا احتجاج ، مظاہرین عمارت کے حف...</td>\n      <td>20230829T171500Z</td>\n      <td>https://jang.com.pk/assets/uploads/updates/202...</td>\n      <td>jang.com.pk</td>\n      <td>Urdu</td>\n      <td>Pakistan</td>\n    </tr>\n    <tr>\n      <th>3</th>\n      <td>https://dunyanews.tv/en/Entertainment/749835-F...</td>\n      <td></td>\n      <td>Farmer stumbles upon big  dinosaur egg</td>\n      <td>20230824T223000Z</td>\n      <td>https://img.dunyanews.tv/news/2023/August/08-2...</td>\n      <td>dunyanews.tv</td>\n      <td>English</td>\n      <td>Pakistan</td>\n    </tr>\n    <tr>\n      <th>4</th>\n      <td>https://jang.com.pk/news/1256337</td>\n      <td>https://jang.com.pk/amp/1256337</td>\n      <td>جھل مگسی میں کسان کے قتل کا نو ٹس لیا جا ئے ، ...</td>\n      <td>20230810T033000Z</td>\n      <td></td>\n      <td>jang.com.pk</td>\n      <td>Urdu</td>\n      <td>Pakistan</td>\n    </tr>\n    <tr>\n      <th>...</th>\n      <td>...</td>\n      <td>...</td>\n      <td>...</td>\n      <td>...</td>\n      <td>...</td>\n      <td>...</td>\n      <td>...</td>\n      <td>...</td>\n    </tr>\n    <tr>\n      <th>245</th>\n      <td>https://www.punjabitribuneonline.com/news/doab...</td>\n      <td>https://m.punjabitribuneonline.com/article/the...</td>\n      <td>ਕਿਸਾਨਾਂ - ਮਜ਼ਦੂਰਾਂ ਨੇ ਕੇਂਦਰ ਸਰਕਾਰ ਦੇ ਪੁਤਲੇ ਫੂਕ...</td>\n      <td>20230909T061500Z</td>\n      <td>https://www.punjabitribuneonline.com/wp-conten...</td>\n      <td>punjabitribuneonline.com</td>\n      <td>Punjabi</td>\n      <td>India</td>\n    </tr>\n    <tr>\n      <th>246</th>\n      <td>https://www.amarujala.com/dehradun/the-farmers...</td>\n      <td>https://www.amarujala.com/amp/dehradun/the-far...</td>\n      <td>Dehradun News : बीज की कमी के कारण चिंतित नजर ...</td>\n      <td>20230723T203000Z</td>\n      <td>https://staticimg.amarujala.com/assets/images/...</td>\n      <td>amarujala.com</td>\n      <td>Hindi</td>\n      <td>India</td>\n    </tr>\n    <tr>\n      <th>247</th>\n      <td>https://www.punjabitribuneonline.com/news/punj...</td>\n      <td>https://m.punjabitribuneonline.com/article/lon...</td>\n      <td>ਲੌਂਗੋਵਾਲ : ਪੁਲੀਸ ਨਾਲ ਝੜਪ ਦੌਰਾਨ ਕਿਸਾਨ ਦੀ ਮੌਤ - ...</td>\n      <td>20230822T034500Z</td>\n      <td>https://www.punjabitribuneonline.com/wp-conten...</td>\n      <td>punjabitribuneonline.com</td>\n      <td>Punjabi</td>\n      <td>India</td>\n    </tr>\n    <tr>\n      <th>248</th>\n      <td>https://www.kannadaprabha.com/karnataka/2023/a...</td>\n      <td>https://m.kannadaprabha.com/karnataka/2023/aug...</td>\n      <td>ತಿ . ನರಸಿಪುರ ರಸ್ತೆ ಅಪಘಾತದಲ್ಲಿ ರೈತ ಸಾವು : ಹೆದ್ದ...</td>\n      <td>20230826T114500Z</td>\n      <td>https://media.kannadaprabha.com/uploads/user/i...</td>\n      <td>kannadaprabha.com</td>\n      <td>Kannada</td>\n      <td>India</td>\n    </tr>\n    <tr>\n      <th>249</th>\n      <td>https://www.sangbadpratidin.in/offbeat/tamil-n...</td>\n      <td>https://m.sangbadpratidin.in/article/tamil-nad...</td>\n      <td>Tamil Nadu Couple Act Fake Accident and Hijack...</td>\n      <td>20230723T111500Z</td>\n      <td>https://www.sangbadpratidin.in/wp-content/uplo...</td>\n      <td>sangbadpratidin.in</td>\n      <td>Bengali</td>\n      <td>India</td>\n    </tr>\n  </tbody>\n</table>\n<p>250 rows × 8 columns</p>\n</div>"
     },
     "execution_count": 11,
     "metadata": {},
     "output_type": "execute_result"
    }
   ],
   "source": [
    "f = Filters(keyword=[\"femicide\", \"farmer\"], timespan=\"2m\", country=[\"IN\", \"PK\"])\n",
    "gd.article_search(f)"
   ],
   "metadata": {
    "collapsed": false,
    "ExecuteTime": {
     "end_time": "2023-09-18T05:20:56.862064300Z",
     "start_time": "2023-09-18T05:20:55.849140Z"
    }
   },
   "id": "8318e9c933ea837c"
  },
  {
   "cell_type": "markdown",
   "source": [
    "## 4. Are there API limits? Are there any associated monetary costs?\n",
    "\n",
    "There doesn't seem to be a monetary or pricing mechanism imposed on the GDELT API. Their website describes themselves as \n",
    "```\n",
    "The entire GDELT database is 100% free and open and you can download the raw datafiles, visualize it using the\n",
    "GDELT Analysis Service, or analyze it at limitless scale with Google BigQuery.\n",
    "```\n",
    "So, there shouldn't be any associated monetary costs without any information from their blogs.\n",
    "\n",
    "\n",
    "The following are the limitations that I have noticed during my interaction with GDELT: \n",
    "- Max 250 articles are returned when querying through API\n",
    "- Doesn't have support for fuzzy matching text within articles. So, the filters would have to account for language tense, sentence structure, etc while designing.\n"
   ],
   "metadata": {
    "collapsed": false
   },
   "id": "e5ce29c8fa7f9eba"
  },
  {
   "cell_type": "markdown",
   "source": [
    "## Conclusion\n",
    "\n",
    "While working with the GDELT API, I found that it supports a few other features as well:\n",
    "- Allows for searching images (attached to articles) using the image EXIF data, image OCR result, image tag (images are processed by GDELT and tagged based on the image content predictions)\n",
    "- Allows for filtering based on the tonality of articles (how negative or positive the article's content)\n",
    "- Allows for filtering based on themes (pre-determined set of categories, examples: TERROR, CRISIS, MARITIME, etc). List of themes [is here](http://data.gdeltproject.org/api/v2/guides/LOOKUP-GKGTHEMES.TXT).\n",
    "- It can return visualizations for certain contexts based on the query. (This can save the processing overhead for certain situations)\n"
   ],
   "metadata": {
    "collapsed": false
   },
   "id": "ce9aa378127fe7ec"
  },
  {
   "cell_type": "markdown",
   "source": [
    "## References\n",
    "- GDELT API Documentation: https://blog.gdeltproject.org/gdelt-doc-2-0-api-debuts/\n",
    "- GDELT Python API package: https://github.com/alex9smith/gdelt-doc-api\n",
    "- GDELT Blog (for extra info): https://blog.gdeltproject.org/"
   ],
   "metadata": {
    "collapsed": false
   },
   "id": "3b75a47695657e1e"
  },
  {
   "cell_type": "code",
   "execution_count": null,
   "outputs": [],
   "source": [],
   "metadata": {
    "collapsed": false
   },
   "id": "7125a72108869583"
  }
 ],
 "metadata": {
  "kernelspec": {
   "display_name": "Python 3",
   "language": "python",
   "name": "python3"
  },
  "language_info": {
   "codemirror_mode": {
    "name": "ipython",
    "version": 2
   },
   "file_extension": ".py",
   "mimetype": "text/x-python",
   "name": "python",
   "nbconvert_exporter": "python",
   "pygments_lexer": "ipython2",
   "version": "2.7.6"
  }
 },
 "nbformat": 4,
 "nbformat_minor": 5
}
